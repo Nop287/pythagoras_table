{
 "cells": [
  {
   "cell_type": "code",
   "execution_count": 45,
   "metadata": {},
   "outputs": [],
   "source": [
    "from functions import table_stats, gen_table, gen_dataframe, write_html\n",
    "import pandas as pd\n",
    "\n",
    "df = gen_dataframe(100)"
   ]
  },
  {
   "cell_type": "code",
   "execution_count": 50,
   "metadata": {},
   "outputs": [
    {
     "data": {
      "text/plain": [
       "array([[<matplotlib.axes._subplots.AxesSubplot object at 0x118f74310>]],\n",
       "      dtype=object)"
      ]
     },
     "execution_count": 50,
     "metadata": {},
     "output_type": "execute_result"
    },
    {
     "data": {
      "image/png": "[encoded data removed]",
      "text/plain": [
       "<Figure size 432x288 with 1 Axes>"
      ]
     },
     "metadata": {
      "needs_background": "light"
     },
     "output_type": "display_data"
    }
   ],
   "source": [
    "%matplotlib inline\n",
    "import matplotlib.pyplot as plt\n",
    "\n",
    "df_hist = pd.DataFrame(df.to_numpy().ravel())\n",
    "\n",
    "df_hist.hist()"
   ]
  },
  {
   "cell_type": "code",
   "execution_count": 67,
   "metadata": {},
   "outputs": [
    {
     "name": "stdout",
     "output_type": "stream",
     "text": [
      "{0: 58, 1: 6, 2: 23, 3: 4, 4: 9}\n"
     ]
    },
    {
     "data": {
      "image/png": "[encoded data removed]",
      "text/plain": [
       "<Figure size 432x288 with 1 Axes>"
      ]
     },
     "metadata": {
      "needs_background": "light"
     },
     "output_type": "display_data"
    }
   ],
   "source": [
    "(count_num, prime_fac) = table_stats(10)\n",
    "\n",
    "# make a list of items in the dictionary sorted by occurence\n",
    "list_of_items = sorted(count_num.items(), key=lambda x : x[1])\n",
    "\n",
    "count_hist = { }\n",
    "\n",
    "# calculate a histogram: How many numbers did occur a certain amount of times?\n",
    "for tuple in list_of_items:\n",
    "    if tuple[1] in count_hist.keys():\n",
    "        count_hist[tuple[1]] += 1\n",
    "    else:\n",
    "        count_hist[tuple[1]] = 1\n",
    "        \n",
    "# print the histogram\n",
    "print(count_hist)\n",
    "\n",
    "df_occ_num = pd.DataFrame(list(count_num.values()))\n",
    "\n",
    "_ = df_occ_num.hist(bins=59)"
   ]
  },
  {
   "cell_type": "code",
   "execution_count": 68,
   "metadata": {},
   "outputs": [
    {
     "name": "stdout",
     "output_type": "stream",
     "text": [
      "11  :  0 :  {11: 1}\n",
      "13  :  0 :  {13: 1}\n",
      "17  :  0 :  {17: 1}\n",
      "19  :  0 :  {19: 1}\n",
      "22  :  0 :  {2: 1, 11: 1}\n",
      "23  :  0 :  {23: 1}\n",
      "26  :  0 :  {2: 1, 13: 1}\n",
      "29  :  0 :  {29: 1}\n",
      "31  :  0 :  {31: 1}\n",
      "33  :  0 :  {3: 1, 11: 1}\n",
      "34  :  0 :  {2: 1, 17: 1}\n",
      "37  :  0 :  {37: 1}\n",
      "38  :  0 :  {2: 1, 19: 1}\n",
      "39  :  0 :  {3: 1, 13: 1}\n",
      "41  :  0 :  {41: 1}\n",
      "43  :  0 :  {43: 1}\n",
      "44  :  0 :  {2: 2, 11: 1}\n",
      "46  :  0 :  {2: 1, 23: 1}\n",
      "47  :  0 :  {47: 1}\n",
      "51  :  0 :  {3: 1, 17: 1}\n",
      "52  :  0 :  {2: 2, 13: 1}\n",
      "53  :  0 :  {53: 1}\n",
      "55  :  0 :  {5: 1, 11: 1}\n",
      "57  :  0 :  {3: 1, 19: 1}\n",
      "58  :  0 :  {2: 1, 29: 1}\n",
      "59  :  0 :  {59: 1}\n",
      "61  :  0 :  {61: 1}\n",
      "62  :  0 :  {2: 1, 31: 1}\n",
      "65  :  0 :  {5: 1, 13: 1}\n",
      "66  :  0 :  {2: 1, 3: 1, 11: 1}\n",
      "67  :  0 :  {67: 1}\n",
      "68  :  0 :  {2: 2, 17: 1}\n",
      "69  :  0 :  {3: 1, 23: 1}\n",
      "71  :  0 :  {71: 1}\n",
      "73  :  0 :  {73: 1}\n",
      "74  :  0 :  {2: 1, 37: 1}\n",
      "75  :  0 :  {3: 1, 5: 2}\n",
      "76  :  0 :  {2: 2, 19: 1}\n",
      "77  :  0 :  {7: 1, 11: 1}\n",
      "78  :  0 :  {2: 1, 3: 1, 13: 1}\n",
      "79  :  0 :  {79: 1}\n",
      "82  :  0 :  {2: 1, 41: 1}\n",
      "83  :  0 :  {83: 1}\n",
      "84  :  0 :  {2: 2, 3: 1, 7: 1}\n",
      "85  :  0 :  {5: 1, 17: 1}\n",
      "86  :  0 :  {2: 1, 43: 1}\n",
      "87  :  0 :  {3: 1, 29: 1}\n",
      "88  :  0 :  {2: 3, 11: 1}\n",
      "89  :  0 :  {89: 1}\n",
      "91  :  0 :  {7: 1, 13: 1}\n",
      "92  :  0 :  {2: 2, 23: 1}\n",
      "93  :  0 :  {3: 1, 31: 1}\n",
      "94  :  0 :  {2: 1, 47: 1}\n",
      "95  :  0 :  {5: 1, 19: 1}\n",
      "96  :  0 :  {2: 5, 3: 1}\n",
      "97  :  0 :  {97: 1}\n",
      "98  :  0 :  {2: 1, 7: 2}\n",
      "99  :  0 :  {3: 2, 11: 1}\n",
      "1  :  1 :  {}\n",
      "25  :  1 :  {5: 2}\n",
      "49  :  1 :  {7: 2}\n",
      "64  :  1 :  {2: 6}\n",
      "81  :  1 :  {3: 4}\n",
      "100  :  1 :  {2: 2, 5: 2}\n",
      "2  :  2 :  {2: 1}\n",
      "3  :  2 :  {3: 1}\n",
      "5  :  2 :  {5: 1}\n",
      "7  :  2 :  {7: 1}\n",
      "14  :  2 :  {2: 1, 7: 1}\n",
      "15  :  2 :  {3: 1, 5: 1}\n",
      "21  :  2 :  {3: 1, 7: 1}\n",
      "27  :  2 :  {3: 3}\n",
      "28  :  2 :  {2: 2, 7: 1}\n",
      "32  :  2 :  {2: 5}\n",
      "35  :  2 :  {5: 1, 7: 1}\n",
      "42  :  2 :  {2: 1, 3: 1, 7: 1}\n",
      "45  :  2 :  {3: 2, 5: 1}\n",
      "48  :  2 :  {2: 4, 3: 1}\n",
      "50  :  2 :  {2: 1, 5: 2}\n",
      "54  :  2 :  {2: 1, 3: 3}\n",
      "56  :  2 :  {2: 3, 7: 1}\n",
      "60  :  2 :  {2: 2, 3: 1, 5: 1}\n",
      "63  :  2 :  {3: 2, 7: 1}\n",
      "70  :  2 :  {2: 1, 5: 1, 7: 1}\n",
      "72  :  2 :  {2: 3, 3: 2}\n",
      "80  :  2 :  {2: 4, 5: 1}\n",
      "90  :  2 :  {2: 1, 3: 2, 5: 1}\n",
      "4  :  3 :  {2: 2}\n",
      "9  :  3 :  {3: 2}\n",
      "16  :  3 :  {2: 4}\n",
      "36  :  3 :  {2: 2, 3: 2}\n",
      "6  :  4 :  {2: 1, 3: 1}\n",
      "8  :  4 :  {2: 3}\n",
      "10  :  4 :  {2: 1, 5: 1}\n",
      "12  :  4 :  {2: 2, 3: 1}\n",
      "18  :  4 :  {2: 1, 3: 2}\n",
      "20  :  4 :  {2: 2, 5: 1}\n",
      "24  :  4 :  {2: 3, 3: 1}\n",
      "30  :  4 :  {2: 1, 3: 1, 5: 1}\n",
      "40  :  4 :  {2: 3, 5: 1}\n"
     ]
    }
   ],
   "source": [
    "import primefac\n",
    "\n",
    "# make a list of items in the dictionary sorted by occurence\n",
    "list_of_items = sorted(count_num.items(), key=lambda x : x[1])\n",
    "\n",
    "# print the numbers, their occurrence (including 0 occurrences) and their prime factors\n",
    "for tuple in list_of_items:        \n",
    "    print(tuple[0], \" : \", tuple[1], end='')\n",
    "    print(\" : \", prime_fac[tuple[0]])\n"
   ]
  }
 ],
 "metadata": {
  "kernelspec": {
   "display_name": "Python 3",
   "language": "python",
   "name": "python3"
  },
  "language_info": {
   "codemirror_mode": {
    "name": "ipython",
    "version": 3
   },
   "file_extension": ".py",
   "mimetype": "text/x-python",
   "name": "python",
   "nbconvert_exporter": "python",
   "pygments_lexer": "ipython3",
   "version": "3.7.4"
  }
 },
 "nbformat": 4,
 "nbformat_minor": 2
}
